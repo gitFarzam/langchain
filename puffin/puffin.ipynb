{
 "cells": [
  {
   "cell_type": "markdown",
   "id": "268c7cc6-5286-4fe7-9354-9f38f96e47b7",
   "metadata": {},
   "source": [
    "![image](puffin.jpg)\n",
    "\n",
    "[image source](https://images.discerningassets.com/image/upload/q_auto:best/c_limit,w_1000/v1705258979/xz2yui2oqtqhv0yhrgto.jpg)\n",
    "\n",
    "# Ask Questions from PDF Files, Using Langchain Library\n",
    "\n",
    "- We will use some PDF files to ask AI the question: **\"Where are the main locations of puffin colonies?\"**\n",
    "\n",
    "- PDF files about puffins were downloaded using the Langchain library. These files were loaded as documents with `PyPDFLoader` and then split using `RecursiveCharacterTextSplitter`.\n",
    "\n",
    "- On the other hand, the Pinecone and OpenAI API keys were turned into environment variables.\n",
    "\n",
    "- Using `OpenAIEmbeddings` and `PineconeVectorStore`, all document texts were converted into embedding vectors. These texts, along with their vectors, metadata, and generated UUIDs, were stored in the Pinecone cloud database.\n",
    "\n",
    "- Using `similarity_search` method, a question was converted to embedding values, and using cosine similarity, Pinecone found the top 10 (k=10) similar documents to that question.\n",
    "\n",
    "- After assigning the top 10 similar documents as context for the `ChatOpenAI` class, questions were asked of the AI, and it provided answer.\n",
    "\n",
    "Useful Resources:\n",
    "* [Pinecone in Langchain](https://python.langchain.com/docs/integrations/vectorstores/pinecone/)\n",
    "* [Free Articles in PDF](https://www.freefullpdf.com/)"
   ]
  },
  {
   "cell_type": "markdown",
   "id": "dcb6df71-bc0e-4d0b-9425-e6eb058f90ae",
   "metadata": {},
   "source": [
    "## Importing Libraries"
   ]
  },
  {
   "cell_type": "code",
   "execution_count": 1,
   "id": "c288efa0-0c4f-4082-adf2-4a659ea8e58e",
   "metadata": {},
   "outputs": [
    {
     "name": "stderr",
     "output_type": "stream",
     "text": [
      "/Users/farzamarefi/.base/lib/python3.12/site-packages/pinecone/data/index.py:1: TqdmWarning: IProgress not found. Please update jupyter and ipywidgets. See https://ipywidgets.readthedocs.io/en/stable/user_install.html\n",
      "  from tqdm.autonotebook import tqdm\n"
     ]
    }
   ],
   "source": [
    "import os\n",
    "from dotenv import load_dotenv\n",
    "\n",
    "from langchain_community.document_loaders import PyPDFLoader\n",
    "from langchain_pinecone import PineconeVectorStore\n",
    "from langchain.text_splitter import RecursiveCharacterTextSplitter\n",
    "from langchain.vectorstores import Pinecone\n",
    "from langchain_openai import OpenAIEmbeddings\n",
    "from pinecone import Pinecone, ServerlessSpec\n",
    "\n",
    "from langchain_openai import ChatOpenAI\n",
    "from langchain_core.messages import AIMessage, HumanMessage, SystemMessage"
   ]
  },
  {
   "cell_type": "markdown",
   "id": "07320e95-46b4-43f8-97ae-d44dba9acc80",
   "metadata": {},
   "source": [
    "## Loading Envoironment Variables"
   ]
  },
  {
   "cell_type": "code",
   "execution_count": 2,
   "id": "4ddb885e-16e2-4287-8b93-5d7f0cd36f5d",
   "metadata": {},
   "outputs": [
    {
     "data": {
      "text/plain": [
       "'us-east-1'"
      ]
     },
     "execution_count": 2,
     "metadata": {},
     "output_type": "execute_result"
    }
   ],
   "source": [
    "# Environment variables will be loaded from a .env file located in the same root directory as this notebook file.\n",
    "load_dotenv()\n",
    "\n",
    "# test one of the env keys\n",
    "os.environ.get(\"PINECONE_API_ENV\")"
   ]
  },
  {
   "cell_type": "markdown",
   "id": "157be9b1-ca9a-43e6-9f5a-3b97e9d276ba",
   "metadata": {},
   "source": [
    "## Create Documents"
   ]
  },
  {
   "cell_type": "code",
   "execution_count": 3,
   "id": "30fc2eb0-ab15-40a9-b7f5-3f8a18e418ab",
   "metadata": {},
   "outputs": [],
   "source": [
    "add=False # change it to True, if you want your data be added to the pincone database, after adding change it back to False"
   ]
  },
  {
   "cell_type": "code",
   "execution_count": 4,
   "id": "2064c4ec-a7b5-4a57-9042-50672ec3e30f",
   "metadata": {},
   "outputs": [
    {
     "name": "stdout",
     "output_type": "stream",
     "text": [
      "25_BSSC_Tufted Puffin.pdf\n",
      "4 - Trophic interactions under climate fluctuations.pdf\n",
      "4458-Article Text-33734-1-10-20200626.pdf\n",
      "52_2_235-245.pdf\n",
      "Tufted-Puffin-Coast-Wide-Colony-Survey-2021-508-compliant.pdf\n",
      "tupu_recovery__planfinalsept2019.pdf\n"
     ]
    }
   ],
   "source": [
    "!ls data"
   ]
  },
  {
   "cell_type": "code",
   "execution_count": 5,
   "id": "1c3d8033-9df7-4278-904c-ce7cfce920bf",
   "metadata": {},
   "outputs": [],
   "source": [
    "files_dir = \"data\""
   ]
  },
  {
   "cell_type": "code",
   "execution_count": 6,
   "id": "596f8289-a5ce-4d6e-b5d9-1470a1ce653e",
   "metadata": {},
   "outputs": [],
   "source": [
    "text_splitter = RecursiveCharacterTextSplitter(chunk_size=1000, chunk_overlap=200)"
   ]
  },
  {
   "cell_type": "code",
   "execution_count": 7,
   "id": "e3166586-3dfd-4838-b9af-6c825c8a4ce3",
   "metadata": {},
   "outputs": [],
   "source": [
    "documents = []\n",
    "for file in os.listdir(files_dir):\n",
    "    if file.endswith('.pdf'):\n",
    "        loader = PyPDFLoader(os.path.join(files_dir , file))\n",
    "        data = loader.load()\n",
    "        documents.extend(text_splitter.split_documents(data))"
   ]
  },
  {
   "cell_type": "code",
   "execution_count": 8,
   "id": "acf9b1b7-7e5d-4349-904b-4406a9ce314f",
   "metadata": {},
   "outputs": [
    {
     "data": {
      "text/plain": [
       "538"
      ]
     },
     "execution_count": 8,
     "metadata": {},
     "output_type": "execute_result"
    }
   ],
   "source": [
    "len(documents)"
   ]
  },
  {
   "cell_type": "code",
   "execution_count": 9,
   "id": "0bca9d1e-5bf0-4047-a196-833587b92734",
   "metadata": {},
   "outputs": [
    {
     "data": {
      "text/plain": [
       "{'source': 'data/52_2_235-245.pdf', 'page': 1}"
      ]
     },
     "execution_count": 9,
     "metadata": {},
     "output_type": "execute_result"
    }
   ],
   "source": [
    "documents[10].metadata"
   ]
  },
  {
   "cell_type": "code",
   "execution_count": 10,
   "id": "8260d6bb-b21d-48a3-acf1-1efea6c7b95b",
   "metadata": {},
   "outputs": [
    {
     "name": "stdout",
     "output_type": "stream",
     "text": [
      "2022), and marine mammals (Ford et al. 2016, Thomas et al. 2017, \n",
      "Michaux et al. 2021). Results from eDNA studies can often be \n",
      "correlated with results from studies using conventional sampling \n",
      "methods (Port et al. 2016, Thomsen et al. 2016, Kelly et al. 2017, \n",
      "Sigsgaard et al. 2017, Pont et al. 2018), most of which involve \n",
      "greater time and energy investment. One limitation of eDNA \n",
      "methods is that secondary prey are difficult to distinguish from \n",
      "primary prey.\n",
      "For seabirds, diets have been assessed using DNA analysis of \n",
      "feces from several species, including penguins (Deagle et al. 2007, \n",
      "Jarman et al. 2013, Cavallo et al. 2018), albatrosses (McInnes et \n",
      "al. 2016a, 2017a, 2017b), shearwaters (Komura et al. 2018, Nimz \n",
      "et al. 2022), terns (Bogantes et al. 2024), and cormorants (Oehm \n",
      "et al. 2017). The eDNA methods perform as well as or better than \n",
      "conventional dietary characterization methods for many species \n",
      "(Deagle et al. 2007; Bowser et al. 2013; Jarman et al. 2013;\n"
     ]
    }
   ],
   "source": [
    "print(documents[11].page_content)"
   ]
  },
  {
   "cell_type": "markdown",
   "id": "846fb102-976d-4f98-9846-fa55ea27c783",
   "metadata": {},
   "source": [
    "## Initializing Pincone database and Indexes"
   ]
  },
  {
   "cell_type": "code",
   "execution_count": 11,
   "id": "503b5fd7-2818-4285-9144-fc2637f77b2b",
   "metadata": {},
   "outputs": [
    {
     "name": "stdout",
     "output_type": "stream",
     "text": [
      "Indexes:  ['langzam', 'puffin']\n",
      "Using puffin index \n"
     ]
    }
   ],
   "source": [
    "index_name = \"puffin\"\n",
    "pc = Pinecone()\n",
    "existing_indexes = [index_info[\"name\"] for index_info in pc.list_indexes()]\n",
    "\n",
    "print(\"Indexes: \", existing_indexes)\n",
    "\n",
    "if index_name not in existing_indexes:\n",
    "    pc.create_index(\n",
    "        name=index_name,\n",
    "        dimension=1536,\n",
    "        metric=\"cosine\",\n",
    "        spec=ServerlessSpec(cloud=\"aws\", region=\"us-east-1\"),\n",
    "    )\n",
    "    while not pc.describe_index(index_name).status[\"ready\"]: # if server is not ready it will wait for 1 second, then again tries\n",
    "        # to create an index using the index_name\n",
    "        time.sleep(1)\n",
    "\n",
    "print(f\"Using {index_name} index \")\n",
    "\n",
    "index = pc.Index(index_name) # instantiate an index object\n"
   ]
  },
  {
   "cell_type": "markdown",
   "id": "5913ad39-414e-458e-abfd-42d83edd56ad",
   "metadata": {},
   "source": [
    "## Adding Documents to the Vector Store"
   ]
  },
  {
   "cell_type": "code",
   "execution_count": 12,
   "id": "88e0f8c2-705b-48a3-b6aa-52debaf1b8f8",
   "metadata": {},
   "outputs": [],
   "source": [
    "from uuid import uuid4\n",
    "uuids = [str(uuid4()) for _ in range(len(documents))]"
   ]
  },
  {
   "cell_type": "code",
   "execution_count": 14,
   "id": "094c9617-f143-4e48-8326-018fe3c75dbc",
   "metadata": {},
   "outputs": [],
   "source": [
    "embeddings=OpenAIEmbeddings(model=\"text-embedding-3-small\")"
   ]
  },
  {
   "cell_type": "code",
   "execution_count": 15,
   "id": "17d09d7d-6bce-4d87-9968-0d5ef78b72f3",
   "metadata": {},
   "outputs": [],
   "source": [
    "vector_store = PineconeVectorStore(index=index, embedding=embeddings)"
   ]
  },
  {
   "cell_type": "code",
   "execution_count": 16,
   "id": "398d3a7b-f5c7-4310-b82b-2080ed4bc64a",
   "metadata": {},
   "outputs": [
    {
     "name": "stdout",
     "output_type": "stream",
     "text": [
      "Nothing will be added to the vector database\n"
     ]
    }
   ],
   "source": [
    "if add:\n",
    "    vector_store.add_documents(documents=documents, ids=uuids)\n",
    "    print(\"Documents (text+vector+metadata+uuid) were added to the pinecone database\")\n",
    "\n",
    "print(\"Nothing will be added to the vector database\")"
   ]
  },
  {
   "cell_type": "markdown",
   "id": "8340b31e-a122-4560-a8ee-6669b22fe4aa",
   "metadata": {},
   "source": [
    "## Query Vector Store"
   ]
  },
  {
   "cell_type": "code",
   "execution_count": 17,
   "id": "39074efb-93e0-49f1-b8de-f6860bb7417d",
   "metadata": {},
   "outputs": [],
   "source": [
    "question = \"Where are the main locations of puffin colonies?\"\n",
    "results = vector_store.similarity_search(\n",
    "    question,\n",
    "    k=10,\n",
    "    # filter={\"source\": \"xxx.pdf\"}, #in case a filter on a project is needed\n",
    ")"
   ]
  },
  {
   "cell_type": "code",
   "execution_count": 18,
   "id": "c916c62f-92c8-496c-8a43-5b6224174ae7",
   "metadata": {
    "scrolled": true
   },
   "outputs": [
    {
     "name": "stdout",
     "output_type": "stream",
     "text": [
      "at the South Farallon Islands. On the north coast, \n",
      "the principal breeding sites were Prince Island \n",
      "(27 birds) and Castle Rock (82 birds), Del Norte \n",
      "County, and Green Rock, Humboldt County \n",
      "(29 birds). Between Cape Mendocino and the \n",
      "Farallon Islands, puffins were found only at Goat \n",
      "Island Area (8 birds) and Fish Rocks (15 birds), \n",
      "Mendocino County, and Point Reyes (4 birds). In \n",
      "1991, small numbers of puffins (about 10 birds) \n",
      "were rediscovered at Prince Island, Santa Barbara \n",
      "County, after an absence of up to several decades \n",
      "from the Channel Islands (Carter et al. 1992, \n",
      "McChesney et al. 1995). This was the only breed-\n",
      "ing location south of the Farallon Islands where \n",
      "puffins were found in 1989–1991. No overall\n",
      "\n",
      "September 2019  3                               Washington Department of Fish and Wildlife \n",
      "   \n",
      " \n",
      "1995), and along the Asian coast as far \n",
      "south as Hokkaido, Japan (Brazil 1991, \n",
      "Osa and Watanuki 2002).  Of the 1,031 \n",
      "nesting colonies known worldwide, 802 \n",
      "(78%) occur in North America (Piatt \n",
      "and Kitaysky 2002), with most in the \n",
      "Aleutian Islands and along the Alaskan \n",
      "Peninsula, where some colonies host \n",
      "more than 100,000 birds.  Tufted Puffins \n",
      "also breed in significant numbers (i.e., \n",
      "tens of thousands) in Southeast Alaska \n",
      "and British Columbia, and are less \n",
      "numerous in Washington, Oregon, and \n",
      "California. \n",
      " \n",
      "Washington. Tufted Puffin breeding \n",
      "colonies lie mainly along the outer coast \n",
      "from Point Grenville north to Cape \n",
      "Flattery (Hanson and Wiles 2015).  The \n",
      "species formerly bred in small numbers \n",
      "at sites throughout the San Juan Islands, \n",
      "but colonies on inland marine waters are \n",
      "now restricted to Protection and Smith \n",
      "islands in the eastern Strait of Juan de\n",
      "\n",
      "many nest sites are located in areas where rabbits \n",
      "did not occur. Numbers at the South Farallon \n",
      "Islands remained fairly stable (between about 50 \n",
      "and 80 birds) between 1982 and 1992 (Ainley \n",
      "et al. 1994) and fluctuated from 50 to 130 birds \n",
      "from 1993 to 2000 (Abraham et al. 2000).\n",
      "On the far northern coast, recent surveys indi -\n",
      "cate puffins may be declining. Estimates at Castle \n",
      "Rock dropped from 82 birds in 1989 to only 6–24 \n",
      "birds in 1997–1999 (Jaques and Strong 2001).\n",
      "At sea in California during nesting, puffins \n",
      "are uncommon and most numerous in waters of \n",
      "the outer continental shelf and continental slope \n",
      "within about 40 mi (65 km) of the breeding \n",
      "colonies (Briggs et al. 1987, 1992; Ainley et al. \n",
      "1990b; Allen 1994). In the nonbreeding season, \n",
      "birds disperse farther offshore, occurring mostly \n",
      "in waters of the continental slope and beyond to \n",
      "several hundred kilometers from shore (Briggs et \n",
      "al. 1987, 1992).\n",
      "ecologicAl requirementS\n",
      "\n",
      "September.  Breeding concentrations are highest around the Bering Sea, Aleutian Islands, and Gulf of \n",
      "Alaska (Figure 1), but colonies occur as far south as the Channel Islands in California (McChesney et al. \n",
      "Figure 1. Range of the Tufted Puffin.\n",
      "\n",
      "5 \n",
      " \n",
      " \n",
      "Figure 1. Map of historical and active Tufted Puffin colonies in Oregon.\n",
      "\n",
      "Southeast Farallon Island (Ainley and Lewis 1974, \n",
      "Hunt et al. 1981, McChesney et al. 1995).\n",
      "Surveys of breeding seabirds on the entire coast \n",
      "of California from 1975 to 1980 estimated a total \n",
      "of 250 breeding puffins at 13 colonies, all north of \n",
      "Point Sur, Monterey County (Sowls et al. 1980). \n",
      "Not included in this estimate, however, was a \n",
      "pair of puffins observed farther south, at Piedras \n",
      "Blancas, San Luis Obispo County, in 1979. About \n",
      "50% of the population occurred north of Cape \n",
      "Mendocino, Humboldt County, about 40% at \n",
      "the South Farallon Islands (Sowls et al. 1980). \n",
      "From surveys in 1989–1991, Carter et al. (1992) \n",
      "estimated 276 breeding puffins at 13 colonies in \n",
      "California. About 57% of the total population \n",
      "occurred north of Cape Mendocino, about 25% \n",
      "at the South Farallon Islands. On the north coast, \n",
      "the principal breeding sites were Prince Island \n",
      "(27 birds) and Castle Rock (82 birds), Del Norte \n",
      "County, and Green Rock, Humboldt County\n",
      "\n",
      "District (75.9°N to 77.4°N) each year starting in 1995 \n",
      "(e.g., Burnham et al. 2014). Surveys were predominately \n",
      "Abstract\n",
      "An accelerating decrease in summer sea-ice extent in the Arctic Ocean and \n",
      "Canadian Arctic Archipelago (North-west Passage) is predicted to increase the \n",
      "movement of species between the North Pacific and North Atlantic oceans. \n",
      "Here we report observations of two Subarctic North Pacific puffin species in the \n",
      "North Atlantic near the coast of north-west Greenland. We observed a horned \n",
      "puffin (Fratercula corniculata) repeatedly during the summer months of 2002–06 \n",
      "and 2013–19 and a single tufted puffin (F. cirrhata) in 2019. While single tufted \n",
      "puffins have been observed a few times in the North Atlantic, this is the first \n",
      "record of a horned puffin in the North Atlantic, and the first record for both \n",
      "horned and tufted puffins in north-west Greenland. In 2019, both puffin spe -\n",
      "cies were observed simultaneously at an Atlantic puffin (F. arctica) colony. \n",
      "Keywords\n",
      "\n",
      "and hatching, the rate of herring growth and the strength\n",
      "and location of the coastal current, an adequate supply of\n",
      "first-year herring may or may not be available for breeding\n",
      "puffins to ensure good reproductive success. Small black\n",
      "outlined circle, the puffin colony at Røst; larger hatched\n",
      "circle, maximum foraging area of breeding puffins; dotted\n",
      "areas, spawning areas of herring.\n",
      "2. MATERIAL AND METHODS\n",
      "(a) Study colony and data collection\n",
      "The data on Atlantic puffins derive from fieldwork conducted\n",
      "on the island of Hernyken (67 °26/H11032N, 11°52/H11032E), which is one\n",
      "of the larger bird cliffs in the R øst archipelago at the tip of the\n",
      "Lofoten Islands. Hernyken is the breeding site for ca. 8% of the\n",
      "approximately 450 000 pairs of puffins breeding in Røst in 2001\n",
      "(Anker-Nilssen & Øyan 1995; Anker-Nilssen & Aarvak 2002).\n",
      "In 1980–2001, an annual average of 165 puffin nests (range\n",
      "of 10–304 nests) were inspected regularly (at 1 –6 day intervals)\n",
      "\n",
      "National Wildlife Refuge Complex office in Newport, Oregon for future reference. \n",
      " \n",
      "The number of Tufted Puffin individuals present at each colony were documented by conducting \n",
      "instantaneous counts of birds on the land, water, and in air from a boat or from mainland vantag e \n",
      "points. All observations w ere made during daylight hours.  Birds in adult plumage observed on \n",
      "each colony or on the water nearby were counted as breeding individuals for that colony. A count \n",
      "of active burrows was documented at each colony by noting bird behavior (bird entered, exited, or \n",
      "sat in front of the burrow) or burrow entrance condition  (disturbed soil or trampled vegetation)  \n",
      "(USFWS 2005, Walsh et al. 1995, Williams et al. 2000, Stephensen 2022, Nelson et al. 2009 , \n",
      "Jaques and Strong 2001). New Tufted Puffin colonies were located, surveyed, and assigned colony \n",
      "identification numbers according to the protocol of the Catalog of Oregon Seabird Colonies  \n",
      "(Naughton et al. 2007).\n",
      "\n",
      "and at the shelf break \n",
      " \n",
      "Tufted Puffins in Washington travel an average of 4.67 km from nesting colonies to \n",
      "forage, but will range as far as 100 km to find suitable prey (Cody 1973).  In \n",
      "Washington, foraging areas occur in the vicinity of colonies along the outer coast and \n",
      "in the Strait of Juan de Fuca, and also at the shelf break approximately 50 km offshore \n",
      "(Menza et al. 2015).  It is currently unknown whether there are critical, heavily-used \n",
      "places within these zones, and whether or not puffin foraging habitat requires \n",
      "additional protection.  Identification of such areas, and study of puffin behavior within \n",
      "them, would better inform management and help set policy for shipping routes, wind \n",
      "farms, and other marine activities potentially impactful to puffin foraging.   \n",
      " \n",
      "6.2.5 Determine how Tufted Puffin diets and breeding success in Washington are affected by \n",
      "foraging locations and habits. \n",
      " \n",
      "Breeding seabirds are central place foragers, meaning that they have to commute\n"
     ]
    }
   ],
   "source": [
    "resutls_content = \"\\n\\n\".join([result.page_content for result in results])\n",
    "print(resutls_content)"
   ]
  },
  {
   "cell_type": "markdown",
   "id": "efe39edd-a4c5-4ad8-a93e-c0a915a67c3c",
   "metadata": {},
   "source": [
    "## Ask OpenAI"
   ]
  },
  {
   "cell_type": "code",
   "execution_count": 19,
   "id": "09f984e1-0812-48a6-b2f9-f4df49a2ce3c",
   "metadata": {},
   "outputs": [],
   "source": [
    "model = ChatOpenAI(model=\"gpt-3.5-turbo\")"
   ]
  },
  {
   "cell_type": "code",
   "execution_count": 20,
   "id": "d8c01fa0-6af5-4624-8393-79165ef40f0b",
   "metadata": {},
   "outputs": [],
   "source": [
    "messages = [ # order is important\n",
    "    SystemMessage(content=resutls_content),\n",
    "    HumanMessage(content=question)\n",
    "]"
   ]
  },
  {
   "cell_type": "code",
   "execution_count": 21,
   "id": "93e462f0-8e28-472c-a280-cff888f57d07",
   "metadata": {},
   "outputs": [],
   "source": [
    "response=model.invoke(messages)"
   ]
  },
  {
   "cell_type": "code",
   "execution_count": 22,
   "id": "4f5f5da0-3d0f-4e16-8a79-c3efb7707542",
   "metadata": {},
   "outputs": [
    {
     "name": "stdout",
     "output_type": "stream",
     "text": [
      "Where are the main locations of puffin colonies? The main locations of Tufted Puffin colonies in Washington are along the outer coast from Point Grenville north to Cape Flattery. They are also found in colonies on Protection and Smith Islands in the eastern Strait of Juan de Fuca. In Oregon, puffin colonies are located at sites such as Haystack Rock, Three Arch Rocks, and Cape Meares. In California, puffin colonies are mainly found on the northern coast, including locations like Prince Island, Castle Rock, and Green Rock. Additionally, puffins breed in significant numbers in the Aleutian Islands and along the Alaskan Peninsula.\n"
     ]
    }
   ],
   "source": [
    "print(question , response.content)"
   ]
  }
 ],
 "metadata": {
  "kernelspec": {
   "display_name": "Python 3 (ipykernel)",
   "language": "python",
   "name": "python3"
  },
  "language_info": {
   "codemirror_mode": {
    "name": "ipython",
    "version": 3
   },
   "file_extension": ".py",
   "mimetype": "text/x-python",
   "name": "python",
   "nbconvert_exporter": "python",
   "pygments_lexer": "ipython3",
   "version": "3.12.7"
  }
 },
 "nbformat": 4,
 "nbformat_minor": 5
}
